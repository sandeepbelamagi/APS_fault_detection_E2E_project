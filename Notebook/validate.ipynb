{
 "cells": [
  {
   "cell_type": "code",
   "execution_count": 2,
   "metadata": {},
   "outputs": [],
   "source": [
    "import numpy as np\n",
    "from scipy import stats\n",
    "rng = np.random.default_rng()\n",
    "sample1 = stats.uniform.rvs(size=100, random_state=rng)\n",
    "sample2 = stats.norm.rvs(size=110, random_state=rng)\n",
    "response = stats.ks_2samp(sample1, sample2)"
   ]
  },
  {
   "cell_type": "code",
   "execution_count": 3,
   "metadata": {},
   "outputs": [
    {
     "data": {
      "text/plain": [
       "array([0.40467573, 0.19788175, 0.015043  , 0.40247184, 0.53159337,\n",
       "       0.32201034, 0.90956639, 0.17653656, 0.72198806, 0.39243   ,\n",
       "       0.79288947, 0.32158226, 0.88950092, 0.04337911, 0.80250784,\n",
       "       0.68086102, 0.90863258, 0.74006239, 0.3212348 , 0.40621629,\n",
       "       0.63988908, 0.21207499, 0.40581782, 0.43192557, 0.13865836,\n",
       "       0.77767971, 0.65849753, 0.99208575, 0.556278  , 0.43710116,\n",
       "       0.86530413, 0.69761621, 0.72952684, 0.07854016, 0.24044524,\n",
       "       0.00198083, 0.00834163, 0.17787754, 0.40283029, 0.58199933,\n",
       "       0.69231561, 0.31582149, 0.26554538, 0.98556496, 0.56794679,\n",
       "       0.80357162, 0.85072594, 0.66504067, 0.83285173, 0.07021264,\n",
       "       0.76681495, 0.83362245, 0.6158123 , 0.73922079, 0.11362179,\n",
       "       0.28200117, 0.23393511, 0.81430496, 0.01384947, 0.90545668,\n",
       "       0.52617029, 0.59100108, 0.85653434, 0.50743747, 0.14104954,\n",
       "       0.68022354, 0.32237486, 0.82025846, 0.36231221, 0.53782273,\n",
       "       0.97591037, 0.47428983, 0.96933219, 0.07042227, 0.32968481,\n",
       "       0.17891532, 0.80667789, 0.73096412, 0.39388127, 0.85892102,\n",
       "       0.31842468, 0.76921517, 0.62755476, 0.29052022, 0.81047724,\n",
       "       0.06064925, 0.35990413, 0.19958603, 0.79911396, 0.0994069 ,\n",
       "       0.63037027, 0.37497098, 0.30783811, 0.03271636, 0.2769332 ,\n",
       "       0.15731099, 0.01784166, 0.2455899 , 0.74791471, 0.96199963])"
      ]
     },
     "execution_count": 3,
     "metadata": {},
     "output_type": "execute_result"
    }
   ],
   "source": [
    "sample1"
   ]
  },
  {
   "cell_type": "code",
   "execution_count": 4,
   "metadata": {},
   "outputs": [
    {
     "data": {
      "text/plain": [
       "array([-0.94668926,  0.97289753,  0.0407832 ,  1.98861469, -0.36735454,\n",
       "       -1.65007175,  0.07134548, -0.78393685,  1.92694863,  0.77988501,\n",
       "        1.69396157,  0.18004672, -0.53865189,  0.32650528,  0.97461137,\n",
       "        0.70336916, -0.12305934,  2.20731194, -0.43348406, -1.11897107,\n",
       "       -0.46336087, -1.18409593,  1.16020274, -0.57070193, -1.22693795,\n",
       "       -0.50290031, -1.13979639, -0.3920131 , -0.31652327, -0.29847839,\n",
       "       -0.26906627,  0.2435553 , -1.00221347, -0.68632242,  0.37471977,\n",
       "       -1.00932067, -0.07757477,  0.76884121,  1.07801019, -1.27303984,\n",
       "        0.5940167 ,  0.02787641,  1.98992494,  0.25929766,  0.13648063,\n",
       "       -1.35667782,  0.76014538, -0.10325086, -0.04864227, -0.12550392,\n",
       "        0.0369701 , -0.01892311, -0.17530874,  0.14385152, -0.3119641 ,\n",
       "        0.75107034,  0.08755811,  0.04329045,  0.17962442,  0.30124505,\n",
       "       -1.33427431,  1.5823631 ,  0.52622144, -0.96853065,  1.41840335,\n",
       "       -0.66536515,  0.52007667, -0.20139996, -0.4254743 , -0.16756357,\n",
       "       -0.55992286,  0.3165728 ,  0.29223833,  1.22286266,  0.5123094 ,\n",
       "        0.79212699,  1.18245278,  0.34364725, -1.45010214,  0.13246798,\n",
       "       -0.94097025, -0.1146398 , -0.24984952, -0.24971741,  0.90013424,\n",
       "       -1.2336882 ,  1.98633555,  0.13044445,  1.32603955,  0.22448074,\n",
       "        0.44993419,  1.01944716,  0.59093746, -2.33515306,  0.1821051 ,\n",
       "       -1.97153317, -1.20131748, -0.14269906, -0.99396907,  0.27868522,\n",
       "        1.4153462 ,  0.34357406,  0.88907254,  0.47421113,  1.45216198,\n",
       "       -1.1626553 , -0.12542414, -0.04990595, -0.13270277, -1.45465849])"
      ]
     },
     "execution_count": 4,
     "metadata": {},
     "output_type": "execute_result"
    }
   ],
   "source": [
    "sample2"
   ]
  },
  {
   "cell_type": "code",
   "execution_count": 5,
   "metadata": {},
   "outputs": [
    {
     "data": {
      "text/plain": [
       "1.46225e-11"
      ]
     },
     "execution_count": 5,
     "metadata": {},
     "output_type": "execute_result"
    }
   ],
   "source": [
    "round(response.pvalue,16)"
   ]
  },
  {
   "cell_type": "code",
   "execution_count": null,
   "metadata": {},
   "outputs": [],
   "source": [
    "#Anomly in my dataset\n",
    "# \n",
    "# 1.High Null Value\n",
    "2. Missing COlumns\n",
    "3. Outlier\n",
    "4. Categorical: \n",
    "Gender--> MALE, FEMALE,OTHER\n"
   ]
  },
  {
   "cell_type": "code",
   "execution_count": 1,
   "metadata": {},
   "outputs": [],
   "source": [
    "import pandas as pd"
   ]
  },
  {
   "cell_type": "code",
   "execution_count": 15,
   "metadata": {},
   "outputs": [
    {
     "name": "stdout",
     "output_type": "stream",
     "text": [
      "1 4\n",
      "2 5\n",
      "3 6\n",
      "4 7\n"
     ]
    }
   ],
   "source": [
    "l1=[1,2,3,4]\n",
    "l2=[4,5,6,7]\n",
    "\n",
    "for l1_val,l2_val in zip(l1,l2):\n",
    "    print(l1_val,l2_val)"
   ]
  },
  {
   "cell_type": "code",
   "execution_count": 30,
   "metadata": {},
   "outputs": [],
   "source": [
    "df = pd.read_csv(\"/config/workspace/artifact/11272022__185759/data_ingestion/dataset/train.csv\")"
   ]
  },
  {
   "cell_type": "code",
   "execution_count": 38,
   "metadata": {},
   "outputs": [
    {
     "data": {
      "text/plain": [
       "0"
      ]
     },
     "execution_count": 38,
     "metadata": {},
     "output_type": "execute_result"
    }
   ],
   "source": [
    "len(df.iloc[:,[0]].drop(\"class\",axis=1).columns)"
   ]
  },
  {
   "cell_type": "code",
   "execution_count": 28,
   "metadata": {},
   "outputs": [
    {
     "data": {
      "text/plain": [
       "Index(['ab_000', 'bk_000', 'bl_000', 'bm_000', 'bn_000', 'bo_000', 'bp_000',\n",
       "       'bq_000', 'br_000', 'cr_000'],\n",
       "      dtype='object')"
      ]
     },
     "execution_count": 28,
     "metadata": {},
     "output_type": "execute_result"
    }
   ],
   "source": []
  },
  {
   "cell_type": "code",
   "execution_count": 1,
   "metadata": {},
   "outputs": [],
   "source": [
    "from glob import glob"
   ]
  },
  {
   "cell_type": "code",
   "execution_count": 5,
   "metadata": {},
   "outputs": [
    {
     "data": {
      "text/plain": [
       "['/config/workspace/saved_models/1/model/model.pkl']"
      ]
     },
     "execution_count": 5,
     "metadata": {},
     "output_type": "execute_result"
    }
   ],
   "source": [
    "glob(\"/config/workspace/saved_models/1/**/*.pkl\")"
   ]
  },
  {
   "cell_type": "code",
   "execution_count": 7,
   "metadata": {},
   "outputs": [
    {
     "data": {
      "text/plain": [
       "'1'"
      ]
     },
     "execution_count": 7,
     "metadata": {},
     "output_type": "execute_result"
    }
   ],
   "source": [
    "import os\n",
    "\n",
    "os.path.basename(\"saved_mode/1\")"
   ]
  },
  {
   "cell_type": "code",
   "execution_count": null,
   "metadata": {},
   "outputs": [],
   "source": []
  }
 ],
 "metadata": {
  "kernelspec": {
   "display_name": "Python 3.8.10 64-bit",
   "language": "python",
   "name": "python3"
  },
  "language_info": {
   "codemirror_mode": {
    "name": "ipython",
    "version": 3
   },
   "file_extension": ".py",
   "mimetype": "text/x-python",
   "name": "python",
   "nbconvert_exporter": "python",
   "pygments_lexer": "ipython3",
   "version": "3.8.10"
  },
  "orig_nbformat": 4,
  "vscode": {
   "interpreter": {
    "hash": "e7370f93d1d0cde622a1f8e1c04877d8463912d04d973331ad4851f04de6915a"
   }
  }
 },
 "nbformat": 4,
 "nbformat_minor": 2
}
